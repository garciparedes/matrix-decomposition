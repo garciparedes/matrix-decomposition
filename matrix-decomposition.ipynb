{
 "cells": [
  {
   "cell_type": "markdown",
   "metadata": {},
   "source": [
    "# Matrix Decomposition\n",
    "\n",
    "## Contents:\n",
    " * [Gauss Elimination](#Gauss-Elimination)\n",
    " * [Gaussian Decomposition](#Gaussian-Decomposition)\n",
    "     * [$LU$](#$A-=-LU$-decomposition)\n",
    "     * [$LDU$](#$A-=-LDU$-decomposition)\n",
    "     * [$LDL^t$](#$A-=-LDL^t$-decomposition)\n",
    "     * [$RR^t$](#$A-=-RR^t$-decomposition)\n",
    " * [Orthogonal Decomposition](#Orthogonal-Decomposition)\n",
    "     * [$QR$ - Givens](#$A-=-QR$-decomposition-of-Householder)\n",
    "     * [$QR$ - Householder](#$A-=-QR$-decomposition-of-Householder)\n",
    " * [Diagonal Decomposition](#Diagonal-Decomposition)\n",
    "     * [$U \\Sigma V^t$](#$A-=-U\\Sigma-V^t$-decomposition)\n",
    "\n",
    "#### Author:\n",
    "* Sergio García Prado - [garciparedes.me](https://garciparedes.me)"
   ]
  },
  {
   "cell_type": "code",
   "execution_count": 1,
   "metadata": {},
   "outputs": [],
   "source": [
    "from typing import Tuple\n",
    "import enforce"
   ]
  },
  {
   "cell_type": "code",
   "execution_count": 2,
   "metadata": {},
   "outputs": [],
   "source": [
    "import numpy as np"
   ]
  },
  {
   "cell_type": "markdown",
   "metadata": {},
   "source": [
    "## Gauss Elimination"
   ]
  },
  {
   "cell_type": "code",
   "execution_count": 3,
   "metadata": {},
   "outputs": [],
   "source": [
    "@enforce.runtime_validation\n",
    "def row_reduce(A: np.ndarray, upper_reduce: bool = True) -> np.ndarray:\n",
    "    A = A.astype(float)\n",
    "    for i in range(A.shape[0]):\n",
    "        if (A[i, i] != 0):\n",
    "            for j in reversed(range(i + 1, A.shape[0])):\n",
    "                A[j,:] -= A[j, i] / A[i, i] * A[i,:]    \n",
    "    if upper_reduce is True:\n",
    "        i = A.shape[0] - 1\n",
    "        if A[i, i] != 0:\n",
    "            A[i, :] = A[i, :] / A[i, i]\n",
    "        for i in reversed(range(A.shape[0] - 1)):\n",
    "            if (A[i, i] != 0):\n",
    "                A[i, :] = A[i, :] / A[i, i]\n",
    "                for j in range(i+1, A.shape[0]):\n",
    "                    if(A[j, j] != 0):\n",
    "                        A[i, :] -= A[i,j] / A[j, j] * A[j,:]\n",
    "    return A"
   ]
  },
  {
   "cell_type": "code",
   "execution_count": 4,
   "metadata": {},
   "outputs": [],
   "source": [
    "@enforce.runtime_validation\n",
    "def gauss(A: np.ndarray, b: np.ndarray, generate_underdetermined:bool = True) -> np.ndarray:\n",
    "    R = row_reduce(np.column_stack((A, b)))\n",
    "    \n",
    "    if not generate_underdetermined:\n",
    "        return R[:, -1]\n",
    "    else:\n",
    "        # TODO(@garciparedes): Improve this code.\n",
    "        i = A.shape[1] - 1\n",
    "        free = 0\n",
    "        while R[i, i] == 0:\n",
    "            i -= 1\n",
    "            free += 1\n",
    "        \n",
    "        if free == 0:\n",
    "            c = R[:,-1]\n",
    "        else:\n",
    "            c = np.empty([A.shape[0], free])\n",
    "            for i in range(free):\n",
    "                R_copy = np.copy(R)\n",
    "                for j in range(free):\n",
    "                    R_copy[A.shape[1] - j - 1, A.shape[1] - j - 1] = 1\n",
    "                    R_copy[A.shape[1] - j -1 , - 1] = i + j + 1\n",
    "                #print(R_copy)\n",
    "                c[:, i] = row_reduce(R_copy)[:, -1]   \n",
    "        return c"
   ]
  },
  {
   "cell_type": "code",
   "execution_count": 5,
   "metadata": {},
   "outputs": [
    {
     "name": "stdout",
     "output_type": "stream",
     "text": [
      "A =\n",
      "[[1 2 3]\n",
      " [4 5 6]\n",
      " [7 8 9]]\n",
      "\n",
      "\n",
      "b =\n",
      "[[1.]\n",
      " [1.]\n",
      " [1.]]\n",
      "\n",
      "\n",
      "x =\n",
      "[[ 0.]\n",
      " [-1.]\n",
      " [ 1.]]\n",
      "\n",
      "\n",
      "A @ x =\n",
      "[[1.]\n",
      " [1.]\n",
      " [1.]]\n",
      "\n",
      "\n",
      "A @ x == b ?\n",
      "True\n",
      "\n",
      "\n"
     ]
    }
   ],
   "source": [
    "A = np.array([[1, 2, 3],\n",
    "              [4, 5, 6],\n",
    "              [7, 8, 9]])\n",
    "\n",
    "b = np.ones((3,1))\n",
    "x = gauss(A, b)\n",
    "\n",
    "print(\"A =\", np.round(A, decimals=2),  '\\n', sep='\\n')\n",
    "print(\"b =\", np.round(b, decimals=2),  '\\n', sep='\\n')\n",
    "print(\"x =\", np.round(x, decimals=2),  '\\n', sep='\\n')\n",
    "print(\"A @ x =\", np.round(A @ x, decimals=2), '\\n', sep='\\n')\n",
    "print(\"A @ x == b ?\", np.allclose(A @ x, b), '\\n', sep='\\n')"
   ]
  },
  {
   "cell_type": "markdown",
   "metadata": {},
   "source": [
    "## Gaussian Decomposition"
   ]
  },
  {
   "cell_type": "markdown",
   "metadata": {},
   "source": [
    "#### $A = LU$ decomposition"
   ]
  },
  {
   "cell_type": "code",
   "execution_count": 6,
   "metadata": {},
   "outputs": [],
   "source": [
    "@enforce.runtime_validation\n",
    "def lu(A: np.ndarray, method: str = \"doolittle\") -> Tuple[np.ndarray, np.ndarray]:\n",
    "    A = A.astype(np.float64)\n",
    "    \n",
    "    if method is \"doolittle\":\n",
    "        pass\n",
    "    elif method is \"crout\":\n",
    "        A = A.T\n",
    "    else:\n",
    "        raise ValueError(\"LU decomposition method is not properly especified: \" + str(method))\n",
    "    \n",
    "    loop_i = range(A.shape[0])\n",
    "    loop_j = lambda i: reversed(range(i +1, A.shape[0]))\n",
    "        \n",
    "    for i in loop_i:\n",
    "        if (A[i, i] != 0):\n",
    "            for j in loop_j(i):\n",
    "                A[j, (i+1):] = A[j, (i+1):] - A[j, i] / A[i, i] * A[i, (i+1):]\n",
    "                A[j, i] = A[j, i] / A[i, i]\n",
    "    \n",
    "    if method is \"doolittle\":\n",
    "        return (np.tril(A, -1) + np.eye(A.shape[0]), np.triu(A))\n",
    "    elif method is \"crout\":\n",
    "        A = A.T\n",
    "        return (np.tril(A), np.triu(A, 1) + np.eye(A.shape[0]))\n",
    "    "
   ]
  },
  {
   "cell_type": "code",
   "execution_count": 7,
   "metadata": {},
   "outputs": [
    {
     "name": "stdout",
     "output_type": "stream",
     "text": [
      "A =\n",
      "[[1 2 3]\n",
      " [4 5 6]\n",
      " [7 8 9]]\n",
      "\n",
      "\n",
      "L =\n",
      "[[1. 0. 0.]\n",
      " [4. 1. 0.]\n",
      " [7. 2. 1.]]\n",
      "\n",
      "\n",
      "U =\n",
      "[[ 1.  2.  3.]\n",
      " [ 0. -3. -6.]\n",
      " [ 0.  0.  0.]]\n",
      "\n",
      "\n",
      "L @ U == A ?\n",
      "True\n",
      "\n",
      "\n",
      "L =\n",
      "[[ 1.  0.  0.]\n",
      " [ 4. -3.  0.]\n",
      " [ 7. -6.  0.]]\n",
      "\n",
      "\n",
      "U =\n",
      "[[1. 2. 3.]\n",
      " [0. 1. 2.]\n",
      " [0. 0. 1.]]\n",
      "\n",
      "\n",
      "L @ U == A ?\n",
      "True\n",
      "\n",
      "\n"
     ]
    }
   ],
   "source": [
    "A = np.array([[1, 2, 3],\n",
    "              [4, 5, 6],\n",
    "              [7, 8, 9]])\n",
    "\n",
    "print(\"A =\", np.round(A, decimals=2),  '\\n', sep='\\n')\n",
    "\n",
    "\n",
    "(L, U) = lu(A)\n",
    "\n",
    "print(\"L =\", np.round(L, decimals=2),  '\\n', sep='\\n')\n",
    "print(\"U =\", np.round(U, decimals=2),  '\\n', sep='\\n')\n",
    "print(\"L @ U == A ?\", np.allclose(L @ U, A), '\\n', sep='\\n')\n",
    "\n",
    "\n",
    "(L, U) = lu(A, method=\"crout\")\n",
    "\n",
    "print(\"L =\", np.round(L, decimals=2),  '\\n', sep='\\n')\n",
    "print(\"U =\", np.round(U, decimals=2),  '\\n', sep='\\n')\n",
    "print(\"L @ U == A ?\", np.allclose(L @ U, A), '\\n', sep='\\n')\n",
    "\n"
   ]
  },
  {
   "cell_type": "code",
   "execution_count": 8,
   "metadata": {},
   "outputs": [],
   "source": [
    "@enforce.runtime_validation\n",
    "def gauss_lu(LU: Tuple[np.ndarray, np.ndarray], b: np.ndarray) -> np.ndarray:\n",
    "    # TODO(@garciparedes): Fix bug that cannot gives appropiate result\n",
    "    raise NotImplementedError(\"It's necessary to fix some bugs before give any result.\")\n",
    "    for i in range(LU[0].shape[0]):\n",
    "        b[i] -= np.sum(b[:i] * LU[0][i,:i])\n",
    "    for i in reversed(range(LU[1].shape[0])):\n",
    "        if LU[1][i][i] != 0:\n",
    "            b[i] = b[i] / LU[1][i][i] - np.sum(b[(i + 1):] * LU[1][i, (i + 1):])\n",
    "    return b"
   ]
  },
  {
   "cell_type": "code",
   "execution_count": 9,
   "metadata": {},
   "outputs": [
    {
     "name": "stdout",
     "output_type": "stream",
     "text": [
      "[1. 1. 1. 1.]\n"
     ]
    }
   ],
   "source": [
    "A = np.array([[2,  0,  1,  2,],\n",
    "              [1,  1,  0,  2,],\n",
    "              [2, -1,  3,  1,],\n",
    "              [3, -1,  4,  3,]])\n",
    "\n",
    "row_reduce(np.column_stack((A, np.ones(4))))\n",
    "\n",
    "# print(A @ gauss_lu(lu(A), np.ones(4)), sep = '\\n')\n",
    "print(A @ gauss(A, np.ones(4)))"
   ]
  },
  {
   "cell_type": "code",
   "execution_count": 10,
   "metadata": {},
   "outputs": [
    {
     "name": "stdout",
     "output_type": "stream",
     "text": [
      "[[ 1  1 -1  1]\n",
      " [ 1  2 -4 -2]\n",
      " [ 2  1  1  5]\n",
      " [-1  0 -2 -4]]\n"
     ]
    }
   ],
   "source": [
    "L = np.array([[1, 0, 0, 0], \n",
    "              [1, 1, 0, 0],\n",
    "              [2,-1, 1, 0],\n",
    "              [-1,1, 0, 1]])\n",
    "\n",
    "U = np.array([[1, 1, -1, 1], \n",
    "              [0, 1, -3, -3],\n",
    "              [0, 0, 0, 0],\n",
    "              [0, 0, 0, 0]])\n",
    "\n",
    "P = np.array([[1, 0, 0, 0],\n",
    "              [0, 1, 0, 0],\n",
    "              [0, 0, 1, 0],\n",
    "              [0, 0, 0, 1]])\n",
    "A = P @ L @ U\n",
    "print(P @ L @ U)"
   ]
  },
  {
   "cell_type": "code",
   "execution_count": 11,
   "metadata": {},
   "outputs": [
    {
     "name": "stdout",
     "output_type": "stream",
     "text": [
      "[[ 2.   3.   1.   2. ]\n",
      " [-2.   4.  -1.   5. ]\n",
      " [ 3.   7.   1.5  1. ]\n",
      " [ 6.   9.   3.   7. ]]\n"
     ]
    }
   ],
   "source": [
    "L = np.array([[  1,    0,   0,  0], \n",
    "              [ -1,    1,   0,  0],\n",
    "              [3/2, 5/14,   1,  0],\n",
    "              [  3,    0,   0,  1]])\n",
    "\n",
    "U = np.array([[ 2,     3,   1,   2], \n",
    "              [ 0,     7,   0,   7],\n",
    "              [ 0,     0,   0,-9/2],\n",
    "              [ 0,     0,   0,   1]])\n",
    "\n",
    "P = np.array([[1, 0, 0, 0],\n",
    "              [0, 1, 0, 0],\n",
    "              [0, 0, 1, 0],\n",
    "              [0, 0, 0, 1]])\n",
    "\n",
    "print(P @ L @ U)"
   ]
  },
  {
   "cell_type": "code",
   "execution_count": 12,
   "metadata": {},
   "outputs": [
    {
     "name": "stdout",
     "output_type": "stream",
     "text": [
      "[[ 4.  2.  6.]\n",
      " [ 3.  0.  7.]\n",
      " [-2. -1. -3.]]\n"
     ]
    }
   ],
   "source": [
    "L = np.array([[  1,   0,   0], \n",
    "              [3/4,   1,   0],\n",
    "              [-1/2,  0,   1]])\n",
    "\n",
    "U = np.array([[ 4,    2,   6], \n",
    "              [ 0, -3/2, 5/2],\n",
    "              [ 0,     0, 0]])\n",
    "\n",
    "P = np.array([[1, 0, 0],\n",
    "              [0, 1, 0],\n",
    "              [0, 0, 1]])\n",
    "\n",
    "print(P @ L @ U)"
   ]
  },
  {
   "cell_type": "code",
   "execution_count": 13,
   "metadata": {},
   "outputs": [
    {
     "name": "stdout",
     "output_type": "stream",
     "text": [
      "[[ 2.  0.  1.  2.]\n",
      " [ 1.  1.  0.  2.]\n",
      " [ 2. -1.  3.  1.]\n",
      " [ 3. -1.  4.  3.]]\n"
     ]
    }
   ],
   "source": [
    "L = np.array([[  1,    0,   0,  0], \n",
    "              [1/2,   1,   0,  0],\n",
    "              [  1,   -1,   1,  0],\n",
    "              [3/2,   -1, 4/3,  1]])\n",
    "\n",
    "U = np.array([[ 2,  0,   1,   2], \n",
    "              [ 0,  1,-1/2,   1],\n",
    "              [ 0,  0, 3/2,   0],\n",
    "              [ 0,  0,   0,   1]])\n",
    "\n",
    "P = np.array([[1, 0, 0, 0],\n",
    "              [0, 1, 0, 0],\n",
    "              [0, 0, 1, 0],\n",
    "              [0, 0, 0, 1]])\n",
    "\n",
    "print(P @ L @ U)"
   ]
  },
  {
   "cell_type": "code",
   "execution_count": 14,
   "metadata": {},
   "outputs": [
    {
     "name": "stdout",
     "output_type": "stream",
     "text": [
      "[[ 1.  2.  0. -2.]\n",
      " [ 2.  4.  0. -3.]\n",
      " [ 3.  7.  2. -3.]\n",
      " [-1.  0.  4.  7.]]\n"
     ]
    }
   ],
   "source": [
    "L = np.array([[1, 0, 0, 0], \n",
    "              [-1, 1, 0, 0],\n",
    "              [3, 1/2, 1, 0],\n",
    "              [2, 0, 0, 1]])\n",
    "\n",
    "U = np.array([[1, 2, 0, -2], \n",
    "              [0, 2, 4, 5],\n",
    "              [0, 0, 0, 1/2],\n",
    "              [0, 0, 0, 1]])\n",
    "\n",
    "P = np.array([[1, 0, 0, 0],\n",
    "              [0, 0, 0, 1],\n",
    "              [0, 0, 1, 0],\n",
    "              [0, 1, 0, 0]])\n",
    "\n",
    "print(P @ L @ U)"
   ]
  },
  {
   "cell_type": "markdown",
   "metadata": {},
   "source": [
    "## Gaussian Decomposition"
   ]
  },
  {
   "cell_type": "markdown",
   "metadata": {},
   "source": [
    "#### $A = LDU$ decomposition"
   ]
  },
  {
   "cell_type": "code",
   "execution_count": 15,
   "metadata": {},
   "outputs": [],
   "source": [
    "@enforce.runtime_validation\n",
    "def ldu(A: np.ndarray) -> Tuple[np.ndarray, np.ndarray, np.ndarray]:    \n",
    "    (L, U1) = lu(A)\n",
    "    D = np.diag(np.diag(U1))\n",
    "    U = np.linalg.pinv(D) @ U1\n",
    "    return (L, D, U)\n",
    "    "
   ]
  },
  {
   "cell_type": "code",
   "execution_count": 16,
   "metadata": {},
   "outputs": [
    {
     "name": "stdout",
     "output_type": "stream",
     "text": [
      "L =\n",
      "[[ 1.   2.   0.  -2. ]\n",
      " [ 0.   2.   4.   5. ]\n",
      " [ 0.   0.   0.   0.5]\n",
      " [ 0.   0.   0.   1. ]]\n",
      "\n",
      "\n",
      "L =\n",
      "[[ 1.  0.  0.]\n",
      " [ 5.  1.  0.]\n",
      " [-2.  3.  1.]]\n",
      "\n",
      "\n",
      "D =\n",
      "[[ 4.  0.  0.]\n",
      " [ 0.  3.  0.]\n",
      " [ 0.  0. -2.]]\n",
      "\n",
      "\n",
      "U =\n",
      "[[ 1.   -0.5   0.25]\n",
      " [ 0.    1.    2.33]\n",
      " [ 0.    0.    1.  ]]\n",
      "\n",
      "\n",
      "L @ D @ U == A ?\n",
      "True\n",
      "\n",
      "\n"
     ]
    }
   ],
   "source": [
    "A = np.array([[ 4, -2,  1],\n",
    "              [20, -7, 12],\n",
    "              [-8, 13, 17]])\n",
    "\n",
    "print(\"L =\", np.round(U, decimals=2),  '\\n', sep='\\n')\n",
    "\n",
    "\n",
    "(L, D, U) = ldu(A)\n",
    "\n",
    "print(\"L =\", np.round(L, decimals=2),  '\\n', sep='\\n')\n",
    "print(\"D =\", np.round(D, decimals=2),  '\\n', sep='\\n')\n",
    "print(\"U =\", np.round(U, decimals=2),  '\\n', sep='\\n')\n",
    "print(\"L @ D @ U == A ?\", np.allclose(L @ D @ U, A), '\\n', sep='\\n')\n"
   ]
  },
  {
   "cell_type": "code",
   "execution_count": 17,
   "metadata": {},
   "outputs": [
    {
     "name": "stdout",
     "output_type": "stream",
     "text": [
      "[[ 4 -2  1]\n",
      " [20 -7 12]\n",
      " [-8 13 17]]\n"
     ]
    }
   ],
   "source": [
    "L = np.array([[  1,   0,   0], \n",
    "              [  5,   1,   0],\n",
    "              [ -2,   3,   1]])\n",
    "\n",
    "U = np.array([[  4,  -2,   1], \n",
    "               [ 0,   3,   7],\n",
    "               [ 0,   0,  -2]])\n",
    "\n",
    "D = np.array([[ 4, 0, 0], \n",
    "              [0, 3, 0],\n",
    "              [0, 0,-2]])\n",
    "\n",
    "P = np.array([[1, 0, 0],\n",
    "              [0, 1, 0],\n",
    "              [0, 0, 1]])\n",
    "\n",
    "print(P @ L @ U)"
   ]
  },
  {
   "cell_type": "code",
   "execution_count": 18,
   "metadata": {},
   "outputs": [
    {
     "name": "stdout",
     "output_type": "stream",
     "text": [
      "[[  1   2  -2   1]\n",
      " [  4   5  -7   6]\n",
      " [  6 -12  -6  22]\n",
      " [  5  25 -15   3]]\n"
     ]
    }
   ],
   "source": [
    "L = np.array([[1, 0, 0, 0], \n",
    "              [4, 1, 0, 0],\n",
    "              [6, 8, 1, 0],\n",
    "              [5, -5, 0, 1]])\n",
    "\n",
    "U = np.array([[1, 2, -2, 1],\n",
    "              [0, -3, 1, 2],\n",
    "              [0, 0, -2, 0],\n",
    "              [0, 0, 0, 8]])\n",
    "\n",
    "D = np.array([[1, 0, 0, 0],\n",
    "              [0, -3, 0, 0],\n",
    "              [0, 0, -2, 0],\n",
    "              [0, 0, 0, 8]])\n",
    "\n",
    "P = np.array([[1, 0, 0, 0],\n",
    "              [0, 1, 0, 0],\n",
    "              [0, 0, 1, 0],\n",
    "              [0, 0, 0, 1]])\n",
    "\n",
    "print(P @ L @ U)"
   ]
  },
  {
   "cell_type": "code",
   "execution_count": 19,
   "metadata": {},
   "outputs": [
    {
     "name": "stdout",
     "output_type": "stream",
     "text": [
      "[[ 4. -2.  1.]\n",
      " [20. -7. 12.]\n",
      " [-8. 13. 17.]]\n"
     ]
    }
   ],
   "source": [
    "L = np.array([[  1,   0,   0], \n",
    "              [  5,   1,   0],\n",
    "              [ -2,   3,   1]])\n",
    "\n",
    "D = np.array([[ 4, 0, 0], \n",
    "              [0, 3, 0],\n",
    "              [0, 0,-2]])\n",
    "\n",
    "U = np.array([[ 1,-1/2,1/4], \n",
    "               [ 0,   1,7/3],\n",
    "               [ 0,   0,  1]])\n",
    "\n",
    "\n",
    "P = np.array([[1, 0, 0],\n",
    "              [0, 1, 0],\n",
    "              [0, 0, 1]])\n",
    "\n",
    "print(P @ L @ D @ U)"
   ]
  },
  {
   "cell_type": "code",
   "execution_count": 20,
   "metadata": {},
   "outputs": [
    {
     "name": "stdout",
     "output_type": "stream",
     "text": [
      "[[  1.   2.  -2.   1.]\n",
      " [  4.   5.  -7.   6.]\n",
      " [  6. -12.  -6.  22.]\n",
      " [  5.  25. -15.   3.]]\n"
     ]
    }
   ],
   "source": [
    "L = np.array([[1, 0, 0, 0], \n",
    "              [4, 1, 0, 0],\n",
    "              [6, 8, 1, 0],\n",
    "              [5, -5, 0, 1]])\n",
    "\n",
    "D = np.array([[1, 0, 0, 0],\n",
    "              [0, -3, 0, 0],\n",
    "              [0, 0, -2, 0],\n",
    "              [0, 0, 0, 8]])\n",
    "\n",
    "U = np.array([[1, 2, -2, 1],\n",
    "               [0, 1, -1/3, -2/3],\n",
    "               [0, 0, 1, 0],\n",
    "               [0, 0, 0, 1]])\n",
    "\n",
    "\n",
    "P = np.array([[1, 0, 0, 0],\n",
    "              [0, 1, 0, 0],\n",
    "              [0, 0, 1, 0],\n",
    "              [0, 0, 0, 1]])\n",
    "\n",
    "print(P @ L @ D @ U)"
   ]
  },
  {
   "cell_type": "code",
   "execution_count": 21,
   "metadata": {},
   "outputs": [
    {
     "name": "stdout",
     "output_type": "stream",
     "text": [
      "[[ 1.  2. -2.  1.  1.]\n",
      " [ 0. -3.  1.  2.  2.]\n",
      " [ 4.  2. -8.  8.  9.]\n",
      " [ 5.  1. -5. 13. 11.]\n",
      " [ 0.  0.  0.  0.  2.]]\n"
     ]
    }
   ],
   "source": [
    "L = np.array([[1, 0, 0, 0, 0], \n",
    "              [0, 1, 0, 0, 0],\n",
    "              [4, 2, 1, 0, 0],\n",
    "              [5, 3, -1, 1, 0],\n",
    "              [0, 0, 0, 0, 1]])\n",
    "\n",
    "U = np.array([[1, 2, -2, 1, 1],\n",
    "              [0, 1, -1/3, -2/3, -2/3],\n",
    "              [0, 0, 1, 0, -1/2],\n",
    "              [0, 0, 0, 1, 1/2],\n",
    "              [0, 0, 0, 0, 1]])\n",
    "\n",
    "D = np.array([[1, 0, 0, 0, 0],\n",
    "              [0, -3, 0, 0, 0],\n",
    "              [0, 0, -2, 0, 0],\n",
    "              [0, 0, 0, 2, 0],\n",
    "              [0, 0, 0, 0, 2]])\n",
    "\n",
    "P = np.array([[1, 0, 0, 0, 0],\n",
    "              [0, 1, 0, 0, 0],\n",
    "              [0, 0, 1, 0, 0],\n",
    "              [0, 0, 0, 1, 0],\n",
    "              [0, 0, 0, 0, 1]])\n",
    "\n",
    "print(P @ L @ D @ U)"
   ]
  },
  {
   "cell_type": "markdown",
   "metadata": {},
   "source": [
    "#### $A = LDL^t$ decomposition"
   ]
  },
  {
   "cell_type": "code",
   "execution_count": 22,
   "metadata": {},
   "outputs": [],
   "source": [
    "@enforce.runtime_validation\n",
    "def ldl(A: np.ndarray) -> Tuple[np.ndarray, np.ndarray]:\n",
    "    L = np.zeros(A.shape)\n",
    "    D = np.zeros(A.shape)\n",
    "    \n",
    "    raise NotImplementedError(\"TODO IMPLEMENT YET LDL\")"
   ]
  },
  {
   "cell_type": "code",
   "execution_count": 23,
   "metadata": {},
   "outputs": [
    {
     "name": "stdout",
     "output_type": "stream",
     "text": [
      "[[ 4. -2. -8.]\n",
      " [-2. -7. 13.]\n",
      " [-8. 13. 17.]]\n"
     ]
    }
   ],
   "source": [
    "L = np.array([[1, 0, 0], \n",
    "              [-1/2, 1, 0],\n",
    "              [-2, -9/8, 1]])\n",
    "\n",
    "D = np.array([[4, 0, 0], \n",
    "              [0, -8, 0],\n",
    "              [0, 0, 89/8]])\n",
    "\n",
    "P = np.array([[1, 0, 0],\n",
    "              [0, 1, 0],\n",
    "              [0, 0, 1]])\n",
    "\n",
    "print(P @ L @ D @ np.transpose(L))"
   ]
  },
  {
   "cell_type": "code",
   "execution_count": 24,
   "metadata": {},
   "outputs": [
    {
     "name": "stdout",
     "output_type": "stream",
     "text": [
      "[[  1.   4.  -2.   1.]\n",
      " [  4.   5. -12.  25.]\n",
      " [ -2. -12.  -6. -15.]\n",
      " [  1.  25. -15.  -3.]]\n"
     ]
    }
   ],
   "source": [
    "L = np.array([[1, 0, 0, 0], \n",
    "              [4, 1, 0, 0],\n",
    "              [-2, 4/11, 1, 0],\n",
    "              [1, -21/11, 227/94, 1]])\n",
    "\n",
    "D = np.array([[1, 0, 0, 0], \n",
    "              [0, -11, 0, 0],\n",
    "              [0, 0, -94/11, 0],\n",
    "              [0, 0, 0, 8077/94]])\n",
    "\n",
    "P = np.array([[1, 0, 0, 0],\n",
    "              [0, 1, 0, 0],\n",
    "              [0, 0, 1, 0],\n",
    "              [0, 0, 0, 1]])\n",
    "\n",
    "print(P @ L @ D @ np.transpose(L))"
   ]
  },
  {
   "cell_type": "code",
   "execution_count": 25,
   "metadata": {},
   "outputs": [
    {
     "name": "stdout",
     "output_type": "stream",
     "text": [
      "[[  1.   4.  -2.   1.]\n",
      " [  4.   5. -12.  25.]\n",
      " [ -2. -12.  -6. -15.]\n",
      " [  1.  25. -15.  -3.]]\n"
     ]
    }
   ],
   "source": [
    "L = np.array([[1, 0, 0, 0], \n",
    "              [4, 1, 0, 0],\n",
    "              [-2, 4/11, 1, 0],\n",
    "              [1, -21/11, 227/94, 1]])\n",
    "\n",
    "D = np.array([[1, 0, 0, 0], \n",
    "              [0, -11, 0, 0],\n",
    "              [0, 0, -94/11, 0],\n",
    "              [0, 0, 0, 8077/94]])\n",
    "\n",
    "P = np.array([[1, 0, 0, 0],\n",
    "              [0, 1, 0, 0],\n",
    "              [0, 0, 1, 0],\n",
    "              [0, 0, 0, 1]])\n",
    "\n",
    "print(P @ L @ D @ np.transpose(L))"
   ]
  },
  {
   "cell_type": "code",
   "execution_count": 26,
   "metadata": {},
   "outputs": [
    {
     "name": "stdout",
     "output_type": "stream",
     "text": [
      "[[ 1.  2.  4.  5.  1.]\n",
      " [ 2. -3.  2.  2.  2.]\n",
      " [ 4.  2. -8. -5.  9.]\n",
      " [ 5.  2. -5.  4.  1.]\n",
      " [ 1.  2.  9.  1.  2.]]\n"
     ]
    }
   ],
   "source": [
    "L = np.array([[1, 0, 0, 0, 0], \n",
    "              [2, 1, 0, 0, 0],\n",
    "              [4, 6/7, 1, 0, 0],\n",
    "              [5, 8/7, 127/132, 1, 0],\n",
    "              [1, 0, -35/132, -1163/739, 1]])\n",
    "\n",
    "D = np.array([[1, 0, 0, 0, 0], \n",
    "              [0, -7, 0, 0, 0],\n",
    "              [0, 0, -132/7, 0, 0],\n",
    "              [0, 0, 0, 739/132, 0],\n",
    "              [0, 0, 0, 0,  -8528/739]])\n",
    "\n",
    "P = np.array([[1, 0, 0, 0, 0],\n",
    "              [0, 1, 0, 0, 0],\n",
    "              [0, 0, 1, 0, 0],\n",
    "              [0, 0, 0, 1, 0],\n",
    "              [0, 0, 0, 0, 1]])\n",
    "\n",
    "print(P @ L @ D @ np.transpose(L))"
   ]
  },
  {
   "cell_type": "markdown",
   "metadata": {},
   "source": [
    "## $A = RR^t$ decomposition"
   ]
  },
  {
   "cell_type": "code",
   "execution_count": 27,
   "metadata": {},
   "outputs": [],
   "source": [
    "@enforce.runtime_validation\n",
    "def rr(A: np.ndarray) -> Tuple[np.ndarray]:\n",
    "    R = np.zeros(A.shape)\n",
    "    \n",
    "    raise NotImplementedError(\"TODO IMPLEMENT YET: RR\")"
   ]
  },
  {
   "cell_type": "code",
   "execution_count": 28,
   "metadata": {},
   "outputs": [
    {
     "name": "stdout",
     "output_type": "stream",
     "text": [
      "[[ 4  2 -4]\n",
      " [ 2 10  4]\n",
      " [-4  4  9]]\n"
     ]
    }
   ],
   "source": [
    "R = np.array([[2, 0, 0],\n",
    "              [1, 3, 0],\n",
    "              [-2, 2, 1]])\n",
    "\n",
    "P = np.array([[1, 0, 0],\n",
    "              [0, 1, 0],\n",
    "              [0, 0, 1]])\n",
    "\n",
    "print(P @ R @ np.transpose(R))"
   ]
  },
  {
   "cell_type": "code",
   "execution_count": 29,
   "metadata": {},
   "outputs": [
    {
     "name": "stdout",
     "output_type": "stream",
     "text": [
      "[[4. 2. 0.]\n",
      " [2. 9. 4.]\n",
      " [0. 4. 5.]]\n"
     ]
    }
   ],
   "source": [
    "R = np.array([[2, 0, 0],\n",
    "              [1, np.sqrt(8), 0],\n",
    "              [0, np.sqrt(8) / 2, np.sqrt(3)]])\n",
    "\n",
    "P = np.array([[1, 0, 0],\n",
    "              [0, 1, 0],\n",
    "              [0, 0, 1]])\n",
    "\n",
    "print(P @ R @ np.transpose(R))"
   ]
  },
  {
   "cell_type": "markdown",
   "metadata": {},
   "source": [
    "## Orthogonal Decomposition"
   ]
  },
  {
   "cell_type": "markdown",
   "metadata": {},
   "source": [
    "#### $A = QR$ decomposition of Gram Schmidt"
   ]
  },
  {
   "cell_type": "code",
   "execution_count": 30,
   "metadata": {},
   "outputs": [],
   "source": [
    "def inner_product(v1, v2):\n",
    "    return np.sum(v1 * v2)"
   ]
  },
  {
   "cell_type": "code",
   "execution_count": 31,
   "metadata": {},
   "outputs": [],
   "source": [
    "def norm_2(v):\n",
    "    return np.sqrt(inner_product(v, v))"
   ]
  },
  {
   "cell_type": "code",
   "execution_count": 32,
   "metadata": {},
   "outputs": [],
   "source": [
    "def normalize(v):\n",
    "    return v / norm_2(v)"
   ]
  },
  {
   "cell_type": "code",
   "execution_count": 33,
   "metadata": {},
   "outputs": [],
   "source": [
    "def gram_schmidt(V):\n",
    "    Q = np.zeros(V.shape)\n",
    "    for i in range(Q.shape[1]):\n",
    "        Q[:, i] = V[:, i] \n",
    "        for j in range(i):\n",
    "            Q[:, i] -= inner_product(Q[:, j], Q[:, i]) * Q[:, j]\n",
    "        Q[:, i] = normalize(Q[:, i]) \n",
    "    return Q"
   ]
  },
  {
   "cell_type": "markdown",
   "metadata": {},
   "source": [
    "#### $A = QR$ decomposition of Givens "
   ]
  },
  {
   "cell_type": "code",
   "execution_count": 34,
   "metadata": {},
   "outputs": [],
   "source": [
    "@enforce.runtime_validation\n",
    "def rotator(A: np.ndarray, i: int, j: int, k: int) -> np.ndarray:\n",
    "    G = np.eye(A.shape[0])\n",
    "    r = np.sqrt(A[i, k] ** 2 + A[j, k] ** 2)\n",
    "    if A[j, k] != 0:\n",
    "        G[i, i] = A[i, k] / r\n",
    "        G[i, j] = A[j, k] / r\n",
    "        G[j, i] = - A[j, k] / r\n",
    "        G[j, j] = A[i, k] / r\n",
    "    return G"
   ]
  },
  {
   "cell_type": "code",
   "execution_count": 35,
   "metadata": {},
   "outputs": [],
   "source": [
    "@enforce.runtime_validation\n",
    "def qr_givens(A: np.ndarray) -> Tuple[np.ndarray, np.ndarray]:\n",
    "    Q = np.eye(A.shape[0])\n",
    "    for j in range(A.shape[1]):\n",
    "        G = np.eye(A.shape[0])\n",
    "        for i in reversed(range(j, A.shape[1])):\n",
    "            G = rotator(G @ A, i, i + 1, j) @ G\n",
    "        Q = Q @ np.transpose(G)\n",
    "        A = G @ A\n",
    "    return (Q, A)"
   ]
  },
  {
   "cell_type": "code",
   "execution_count": 36,
   "metadata": {},
   "outputs": [
    {
     "name": "stdout",
     "output_type": "stream",
     "text": [
      "A =\n",
      "[[ 1 -1  1]\n",
      " [ 1  1  1]\n",
      " [ 1  1 -1]\n",
      " [ 1  1  1]]\n",
      "\n",
      "\n",
      "Q =\n",
      "[[ 0.5  -0.87  0.    0.  ]\n",
      " [ 0.5   0.29  0.41  0.71]\n",
      " [ 0.5   0.29 -0.82  0.  ]\n",
      " [ 0.5   0.29  0.41 -0.71]]\n",
      "\n",
      "\n",
      "R =\n",
      "[[ 2.    1.    1.  ]\n",
      " [ 0.    1.73 -0.58]\n",
      " [ 0.    0.    1.63]\n",
      " [ 0.    0.    0.  ]]\n",
      "\n",
      "\n",
      "Q @ R =\n",
      "[[ 1. -1.  1.]\n",
      " [ 1.  1.  1.]\n",
      " [ 1.  1. -1.]\n",
      " [ 1.  1.  1.]]\n",
      "\n",
      "\n",
      "b =\n",
      "[ 1  1 -1  0]\n",
      "\n",
      "\n",
      "c =\n",
      "[ 0.5  -0.87  1.22  0.71]\n",
      "\n",
      "\n",
      "x =\n",
      "[ 0.   -0.25  0.75]\n",
      "\n",
      "\n"
     ]
    }
   ],
   "source": [
    "A = np.array([[1,-1,1],\n",
    "              [1,1,1],\n",
    "              [1,1,-1],\n",
    "             [1,1,1]])\n",
    "\n",
    "b = np.array([1, 1, -1, 0])\n",
    "[Q, R] = qr_givens(A)\n",
    "c = (np.transpose(Q) @ b).flatten()\n",
    "x = np.linalg.solve(R[0:R.shape[1], :], c[0:R.shape[1]])\n",
    "\n",
    "print(\"A =\", np.round(A, decimals=2),  '\\n', sep='\\n')\n",
    "print(\"Q =\", np.round(Q, decimals=2),  '\\n', sep='\\n')\n",
    "print(\"R =\", np.round(R, decimals=2),  '\\n', sep='\\n')\n",
    "print(\"Q @ R =\", np.round(Q @ R, decimals=2), '\\n', sep='\\n')\n",
    "print(\"b =\", np.round(b, decimals=2), '\\n', sep='\\n')\n",
    "print(\"c =\", np.round(c, decimals=2), '\\n', sep='\\n')\n",
    "print(\"x =\", np.round(x, decimals=2), '\\n', sep='\\n')"
   ]
  },
  {
   "cell_type": "markdown",
   "metadata": {},
   "source": [
    "#### $A = QR$ decomposition of Householder"
   ]
  },
  {
   "cell_type": "code",
   "execution_count": 37,
   "metadata": {},
   "outputs": [],
   "source": [
    "@enforce.runtime_validation\n",
    "def reflector(A: np.ndarray, i: int) -> np.ndarray:\n",
    "    x = np.take(A, [i], 1)\n",
    "    y =  np.concatenate([x[:i], [[np.sqrt(np.sum(np.power(x[i:],2)))]],\n",
    "                        np.zeros([A.shape[0] - i - 1, 1])])\n",
    "    u = (x - y)\n",
    "    return np.eye(A.shape[0]) - (2 / np.squeeze(u.T @ u)) * (u @ u.T)"
   ]
  },
  {
   "cell_type": "code",
   "execution_count": 38,
   "metadata": {},
   "outputs": [],
   "source": [
    "@enforce.runtime_validation\n",
    "def qr_householder(A: np.ndarray) -> Tuple[np.ndarray, np.ndarray]:\n",
    "    Q = np.eye(A.shape[0])\n",
    "    for i in range(A.shape[1]):\n",
    "        R = reflector(A, i)\n",
    "        Q = Q @ R\n",
    "        A = R @ A\n",
    "    return (Q, A)"
   ]
  },
  {
   "cell_type": "code",
   "execution_count": 39,
   "metadata": {},
   "outputs": [
    {
     "name": "stdout",
     "output_type": "stream",
     "text": [
      "A =\n",
      "[[ 1 -1  1]\n",
      " [ 1  1  1]\n",
      " [ 1  1 -1]\n",
      " [ 1  1  1]]\n",
      "\n",
      "\n",
      "Q =\n",
      "[[ 0.5  -0.87  0.   -0.  ]\n",
      " [ 0.5   0.29  0.41 -0.71]\n",
      " [ 0.5   0.29 -0.82  0.  ]\n",
      " [ 0.5   0.29  0.41  0.71]]\n",
      "\n",
      "\n",
      "R =\n",
      "[[ 2.    1.    1.  ]\n",
      " [ 0.    1.73 -0.58]\n",
      " [ 0.   -0.    1.63]\n",
      " [ 0.    0.    0.  ]]\n",
      "\n",
      "\n",
      "Q @ R =\n",
      "[[ 1. -1.  1.]\n",
      " [ 1.  1.  1.]\n",
      " [ 1.  1. -1.]\n",
      " [ 1.  1.  1.]]\n",
      "\n",
      "\n",
      "b =\n",
      "[ 1  1 -1  0]\n",
      "\n",
      "\n",
      "c =\n",
      "[ 0.5  -0.87  1.22 -0.71]\n",
      "\n",
      "\n",
      "x =\n",
      "[ 0.   -0.25  0.75]\n",
      "\n",
      "\n"
     ]
    }
   ],
   "source": [
    "A = np.array([[1,-1,1],\n",
    "                [1,1,1],\n",
    "                [1,1,-1],\n",
    "                [1,1,1]])\n",
    "\n",
    "b = np.array([1, 1, -1, 0])\n",
    "\n",
    "[Q, R] = qr_householder(A)\n",
    "c = (np.transpose(Q) @ b).flatten()\n",
    "x = np.linalg.solve(R[0:R.shape[1], :], c[0:R.shape[1]])\n",
    "\n",
    "print(\"A =\", np.round(A, decimals=2),  '\\n', sep='\\n')\n",
    "print(\"Q =\", np.round(Q, decimals=2),  '\\n', sep='\\n')\n",
    "print(\"R =\", np.round(R, decimals=2),  '\\n', sep='\\n')\n",
    "print(\"Q @ R =\", np.round(Q @ R, decimals=2), '\\n', sep='\\n')\n",
    "print(\"b =\", np.round(b, decimals=2), '\\n', sep='\\n')\n",
    "print(\"c =\", np.round(c, decimals=2), '\\n', sep='\\n')\n",
    "print(\"x =\", np.round(x, decimals=2), '\\n', sep='\\n')"
   ]
  },
  {
   "cell_type": "markdown",
   "metadata": {},
   "source": [
    "## Diagonal Decomposition"
   ]
  },
  {
   "cell_type": "markdown",
   "metadata": {},
   "source": [
    "#### $A = U\\Sigma V^t$ decomposition"
   ]
  },
  {
   "cell_type": "code",
   "execution_count": 40,
   "metadata": {},
   "outputs": [],
   "source": [
    "def eig_vals(A):\n",
    "    # TODO(@garciparedes): Replace rounding with appropriate approach\n",
    "    return np.round(np.linalg.eigvals(A), decimals = 4)"
   ]
  },
  {
   "cell_type": "code",
   "execution_count": 41,
   "metadata": {},
   "outputs": [],
   "source": [
    "@enforce.runtime_validation\n",
    "def usv(A: np.ndarray) -> Tuple[np.ndarray, np.ndarray, np.ndarray]:\n",
    "    A1 = A.T @ A\n",
    "    A2 = A @ A.T\n",
    "    \n",
    "    lambdas = np.sort(eig_vals(A1))\n",
    "\n",
    "    S = np.diag(np.sqrt(lambdas))\n",
    "    \n",
    "    V = np.empty((A1.shape[1], 0), np.float64)\n",
    "    for l in np.sort(np.unique(lambdas)):\n",
    "        V = np.append(V, gauss(A1 - l * np.eye(A1.shape[0]), np.zeros(A1.shape[0])), axis=1)\n",
    "    V = gram_schmidt(V)\n",
    "\n",
    "    U = np.empty((A2.shape[1], 0), float)\n",
    "    for (i, l) in enumerate(lambdas):\n",
    "        if l == 0:\n",
    "            U = np.append(U, gram_schmidt(gauss(A2, np.zeros(A2.shape[0]))), axis=1)\n",
    "        else:\n",
    "            U = np.append(U, 1 / np.sqrt(l) * A @ V[:, i, None], axis=1)\n",
    "            \n",
    "    return (U, S, V)"
   ]
  },
  {
   "cell_type": "code",
   "execution_count": 42,
   "metadata": {},
   "outputs": [],
   "source": [
    "def pseudo_inverse(U, S, V):\n",
    "    # TODO(@garciparedes): Apply reciprocal in S only over non-zero elements.\n",
    "    return V @ np.linalg.pinv(S) @ U.T"
   ]
  },
  {
   "cell_type": "code",
   "execution_count": 43,
   "metadata": {},
   "outputs": [
    {
     "name": "stdout",
     "output_type": "stream",
     "text": [
      "A =\n",
      "[[ 1 -1  2]\n",
      " [ 1  2 -1]\n",
      " [ 2  1  1]]\n",
      "\n",
      "\n",
      "U =\n",
      "[[-0.58  0.27  0.77]\n",
      " [-0.58  0.53 -0.62]\n",
      " [ 0.58  0.8   0.15]]\n",
      "\n",
      "\n",
      "S =\n",
      "[[-0.  0.  0.]\n",
      " [ 0.  3.  0.]\n",
      " [ 0.  0.  3.]]\n",
      "\n",
      "\n",
      "V =\n",
      "[[-0.58  0.8   0.15]\n",
      " [ 0.58  0.53 -0.62]\n",
      " [ 0.58  0.27  0.77]]\n",
      "\n",
      "\n",
      "U @ S @ V.T =\n",
      "[[ 1. -1.  2.]\n",
      " [ 1.  2. -1.]\n",
      " [ 2.  1.  1.]]\n",
      "\n",
      "\n",
      "U @ S @ V.T == A ?\n",
      "True\n",
      "\n",
      "\n",
      "A_plus =\n",
      "[[ 0.11  0.11  0.22]\n",
      " [-0.11  0.22  0.11]\n",
      " [ 0.22 -0.11  0.11]]\n",
      "\n",
      "\n",
      "b =\n",
      "[[1]\n",
      " [2]\n",
      " [3]]\n",
      "\n",
      "\n",
      "x =\n",
      "[[1.  ]\n",
      " [0.67]\n",
      " [0.33]]\n",
      "\n",
      "\n",
      "A @ x == b ?\n",
      "True\n",
      "\n",
      "\n"
     ]
    }
   ],
   "source": [
    "A = np.array([[1, -1, 2],\n",
    "              [1, 2, -1],\n",
    "              [2, 1, 1]])\n",
    "\n",
    "[U, S, V]  = usv(A)\n",
    "\n",
    "b = np.array([[1], \n",
    "              [2], \n",
    "              [3]])\n",
    "\n",
    "A_plus = pseudo_inverse(U, S, V)\n",
    "\n",
    "x = A_plus @ b\n",
    "\n",
    "print(\"A =\", np.round(A, decimals=2),  '\\n', sep='\\n')\n",
    "print(\"U =\", np.round(U, decimals=2),  '\\n', sep='\\n')\n",
    "print(\"S =\", np.round(S, decimals=2),  '\\n', sep='\\n')\n",
    "print(\"V =\", np.round(V, decimals=2),  '\\n', sep='\\n')\n",
    "print(\"U @ S @ V.T =\", np.round(U @ S @ V.T, decimals=2),  '\\n', sep='\\n')\n",
    "print(\"U @ S @ V.T == A ?\", np.allclose(U @ S @ V.T, A), '\\n', sep='\\n')\n",
    "print(\"A_plus =\", np.round(A_plus, decimals=2),  '\\n', sep='\\n')\n",
    "print(\"b =\", np.round(b, decimals=2),  '\\n', sep='\\n')\n",
    "print(\"x =\", np.round(x, decimals=2),  '\\n', sep='\\n')\n",
    "print(\"A @ x == b ?\", np.allclose(A @ x, b), '\\n', sep='\\n')"
   ]
  }
 ],
 "metadata": {
  "kernelspec": {
   "display_name": "Python 3",
   "language": "python",
   "name": "python3"
  },
  "language_info": {
   "codemirror_mode": {
    "name": "ipython",
    "version": 3
   },
   "file_extension": ".py",
   "mimetype": "text/x-python",
   "name": "python",
   "nbconvert_exporter": "python",
   "pygments_lexer": "ipython3",
   "version": "3.6.5"
  }
 },
 "nbformat": 4,
 "nbformat_minor": 2
}
